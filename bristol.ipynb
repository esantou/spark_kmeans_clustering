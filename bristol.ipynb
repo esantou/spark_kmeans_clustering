{
 "cells": [
  {
   "cell_type": "markdown",
   "metadata": {},
   "source": [
    "1 Instanciation spark session"
   ]
  },
  {
   "cell_type": "code",
   "execution_count": 1,
   "metadata": {},
   "outputs": [],
   "source": [
    "from pyspark import SparkContext\n",
    "import pandas as pd\n",
    "from pyspark.sql import SparkSession\n",
    "from pyspark.sql.functions import col\n",
    "import configparser"
   ]
  },
  {
   "cell_type": "code",
   "execution_count": 2,
   "metadata": {},
   "outputs": [],
   "source": [
    "spark=SparkSession.builder\\\n",
    "                  .master(\"local\")\\\n",
    "                  .appName(\"Bristol\")\\\n",
    "                  .getOrCreate()"
   ]
  },
  {
   "cell_type": "markdown",
   "metadata": {},
   "source": [
    "2 Creéation du fichier propertie.conf"
   ]
  },
  {
   "cell_type": "code",
   "execution_count": 3,
   "metadata": {},
   "outputs": [],
   "source": [
    "import configparser\n",
    "config = configparser.ConfigParser()\n",
    "config.read('properties.conf')\n",
    "path_to_input_data = config['Bristol-City-bike']['Input_data']\n",
    "path_to_output_data = config['Bristol-City-bike']['Output_data']\n",
    "num_partition_kmeans = int(config['Bristol-City-bike']['Kmeans_level'])"
   ]
  },
  {
   "cell_type": "code",
   "execution_count": 4,
   "metadata": {},
   "outputs": [
    {
     "name": "stdout",
     "output_type": "stream",
     "text": [
      "Requirement already satisfied: configparser in c:\\users\\emman\\anaconda3\\lib\\site-packages (5.0.1)\n",
      "Note: you may need to restart the kernel to use updated packages.\n"
     ]
    }
   ],
   "source": [
    "pip install configparser"
   ]
  },
  {
   "cell_type": "markdown",
   "metadata": {},
   "source": [
    "Question 3 Importation json avec spark"
   ]
  },
  {
   "cell_type": "code",
   "execution_count": 5,
   "metadata": {},
   "outputs": [],
   "source": [
    "bristol = spark.read.json(path_to_input_data)"
   ]
  },
  {
   "cell_type": "code",
   "execution_count": 6,
   "metadata": {},
   "outputs": [
    {
     "name": "stdout",
     "output_type": "stream",
     "text": [
      "+--------------------+----------+----------+--------------------+------+\n",
      "|             address|  latitude| longitude|                name|number|\n",
      "+--------------------+----------+----------+--------------------+------+\n",
      "|Lower River Tce /...|-27.482279|153.028723|122 - LOWER RIVER...|   122|\n",
      "|Main St / Darragh St| -27.47059|153.036046|91 - MAIN ST / DA...|    91|\n",
      "|Sydney St Ferry T...|-27.474531|153.042728|88 - SYDNEY ST FE...|    88|\n",
      "+--------------------+----------+----------+--------------------+------+\n",
      "only showing top 3 rows\n",
      "\n"
     ]
    }
   ],
   "source": [
    "bristol.show(3)"
   ]
  },
  {
   "cell_type": "markdown",
   "metadata": {},
   "source": [
    "Question 4 Dataframe Kmeans"
   ]
  },
  {
   "cell_type": "code",
   "execution_count": 8,
   "metadata": {},
   "outputs": [],
   "source": [
    "Kmeans_df =  bristol.select(col(\"latitude\"),col(\"longitude\"))"
   ]
  },
  {
   "cell_type": "code",
   "execution_count": 9,
   "metadata": {},
   "outputs": [
    {
     "name": "stdout",
     "output_type": "stream",
     "text": [
      "+----------+----------+\n",
      "|  latitude| longitude|\n",
      "+----------+----------+\n",
      "|-27.482279|153.028723|\n",
      "| -27.47059|153.036046|\n",
      "+----------+----------+\n",
      "only showing top 2 rows\n",
      "\n"
     ]
    }
   ],
   "source": [
    "Kmeans_df.show(2)"
   ]
  },
  {
   "cell_type": "markdown",
   "metadata": {},
   "source": [
    "Question 5 Kmeans"
   ]
  },
  {
   "cell_type": "code",
   "execution_count": 10,
   "metadata": {},
   "outputs": [],
   "source": [
    "# 5 Kmeans\n",
    "from pyspark.ml.feature import VectorAssembler\n",
    "from pyspark.ml.clustering import KMeans\n",
    "features = (\"longitude\",\"latitude\")\n",
    "kmeans = KMeans().setK(num_partition_kmeans).setSeed(1)\n",
    "assembler = VectorAssembler(inputCols=features,outputCol=\"features\")\n",
    "dataset=assembler.transform(Kmeans_df)\n",
    "model = kmeans.fit(dataset)\n",
    "fitted = model.transform(dataset)"
   ]
  },
  {
   "cell_type": "markdown",
   "metadata": {},
   "source": [
    "Question 6 : Colonnes de fitted"
   ]
  },
  {
   "cell_type": "code",
   "execution_count": 25,
   "metadata": {},
   "outputs": [
    {
     "data": {
      "text/plain": [
       "['latitude', 'longitude', 'features', 'prediction']"
      ]
     },
     "execution_count": 25,
     "metadata": {},
     "output_type": "execute_result"
    }
   ],
   "source": [
    "fitted.columns"
   ]
  },
  {
   "cell_type": "code",
   "execution_count": 26,
   "metadata": {},
   "outputs": [
    {
     "data": {
      "text/plain": [
       "DataFrame[latitude: double, longitude: double, features: vector, prediction: int]"
      ]
     },
     "execution_count": 26,
     "metadata": {},
     "output_type": "execute_result"
    }
   ],
   "source": [
    "fitted"
   ]
  },
  {
   "cell_type": "code",
   "execution_count": 27,
   "metadata": {},
   "outputs": [
    {
     "name": "stdout",
     "output_type": "stream",
     "text": [
      "+----------+----------+--------------------+----------+\n",
      "|  latitude| longitude|            features|prediction|\n",
      "+----------+----------+--------------------+----------+\n",
      "|-27.482279|153.028723|[153.028723,-27.4...|         2|\n",
      "| -27.47059|153.036046|[153.036046,-27.4...|         2|\n",
      "|-27.474531|153.042728|[153.042728,-27.4...|         1|\n",
      "|-27.461881|153.046986|[153.046986,-27.4...|         1|\n",
      "|-27.469658|153.016696|[153.016696,-27.4...|         2|\n",
      "| -27.48172| 153.00436|[153.00436,-27.48...|         0|\n",
      "|-27.493626|153.001482|[153.001482,-27.4...|         0|\n",
      "|-27.476076|153.002459|[153.002459,-27.4...|         0|\n",
      "|-27.493963|153.011938|[153.011938,-27.4...|         0|\n",
      "|-27.482197|153.020894|[153.020894,-27.4...|         2|\n",
      "|-27.465226|153.050864|[153.050864,-27.4...|         1|\n",
      "|-27.468447|153.024662|[153.024662,-27.4...|         2|\n",
      "|-27.473021|153.025988|[153.025988,-27.4...|         2|\n",
      "|-27.457825|153.036866|[153.036866,-27.4...|         1|\n",
      "| -27.48148| 153.02368|[153.02368,-27.48...|         2|\n",
      "|-27.467464|153.022094|[153.022094,-27.4...|         2|\n",
      "|-27.499963|153.017633|[153.017633,-27.4...|         0|\n",
      "|-27.490776|152.994747|[152.994747,-27.4...|         0|\n",
      "|-27.458199|153.041688|[153.041688,-27.4...|         1|\n",
      "|-27.481808|153.025477|[153.025477,-27.4...|         2|\n",
      "+----------+----------+--------------------+----------+\n",
      "only showing top 20 rows\n",
      "\n"
     ]
    }
   ],
   "source": [
    "fitted.show()"
   ]
  },
  {
   "cell_type": "markdown",
   "metadata": {},
   "source": [
    "Question 7 : Les moyennes par groupe\n",
    "    LES RESULTATS SONT LES MEMES"
   ]
  },
  {
   "cell_type": "code",
   "execution_count": 34,
   "metadata": {},
   "outputs": [
    {
     "name": "stdout",
     "output_type": "stream",
     "text": [
      "+----------+-------------------+------------------+\n",
      "|prediction|      avg(latitude)|    avg(longitude)|\n",
      "+----------+-------------------+------------------+\n",
      "|         1|-27.460240636363633|153.04186302272726|\n",
      "|         2| -27.47255990624999|   153.02594553125|\n",
      "|         0|-27.481218536585374|153.00572882926832|\n",
      "+----------+-------------------+------------------+\n",
      "\n"
     ]
    }
   ],
   "source": [
    "#Methode DSL\n",
    "fitted.groupBy(col(\"prediction\")).mean(\"latitude\", \"longitude\").show()"
   ]
  },
  {
   "cell_type": "code",
   "execution_count": 35,
   "metadata": {},
   "outputs": [],
   "source": [
    "#Methode SQL\n",
    "fitted.createOrReplaceTempView(\"fit\")"
   ]
  },
  {
   "cell_type": "code",
   "execution_count": 40,
   "metadata": {},
   "outputs": [
    {
     "name": "stdout",
     "output_type": "stream",
     "text": [
      "+----------+-------------------+------------------+\n",
      "|prediction|          Alatitude|        Alongitude|\n",
      "+----------+-------------------+------------------+\n",
      "|         1|-27.460240636363633|153.04186302272726|\n",
      "|         2| -27.47255990624999|   153.02594553125|\n",
      "|         0|-27.481218536585374|153.00572882926832|\n",
      "+----------+-------------------+------------------+\n",
      "\n"
     ]
    }
   ],
   "source": [
    "spark.sql(\"\"\"SELECT prediction, avg(latitude) as Alatitude, avg(longitude) as Alongitude FROM fit GROUP BY prediction \"\"\").show()"
   ]
  },
  {
   "cell_type": "markdown",
   "metadata": {},
   "source": [
    "Question 9 : Exportation FITTED"
   ]
  },
  {
   "cell_type": "code",
   "execution_count": 44,
   "metadata": {},
   "outputs": [],
   "source": [
    "fitted.drop(col(\"features\")).toPandas().to_csv(path_to_output_data+\"fitt.csv\")"
   ]
  },
  {
   "cell_type": "code",
   "execution_count": null,
   "metadata": {},
   "outputs": [],
   "source": []
  }
 ],
 "metadata": {
  "kernelspec": {
   "display_name": "Python 3",
   "language": "python",
   "name": "python3"
  },
  "language_info": {
   "codemirror_mode": {
    "name": "ipython",
    "version": 3
   },
   "file_extension": ".py",
   "mimetype": "text/x-python",
   "name": "python",
   "nbconvert_exporter": "python",
   "pygments_lexer": "ipython3",
   "version": "3.7.6"
  }
 },
 "nbformat": 4,
 "nbformat_minor": 4
}
